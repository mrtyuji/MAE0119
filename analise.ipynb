{
 "cells": [
  {
   "cell_type": "markdown",
   "metadata": {},
   "source": [
    "Análise de série de lançamentos de dados"
   ]
  },
  {
   "cell_type": "code",
   "execution_count": null,
   "metadata": {
    "collapsed": true
   },
   "outputs": [],
   "source": [
    "import matplotlib.pyplot as plt\n",
    "from random import randint\n",
    "import numpy as np\n",
    "\n",
    "%matplotlib inline\n",
    "\n",
    "def lancaDado():\n",
    "    return randint(1, 6)\n",
    "\n",
    "def freq(n):\n",
    "    freq1 = [0]\n",
    "    freq2 = [0]\n",
    "    freq3 = [0]\n",
    "    freq4 = [0]\n",
    "    freq5 = [0]\n",
    "    freq6 = [0]\n",
    "    ocorr = [0, 0, 0, 0, 0, 0, 0]\n",
    "    for i in range(1,n+1):\n",
    "        r = lancaDado()\n",
    "        ocorr[r-1] += 1\n",
    "        freq1.append(ocorr[0]/i)\n",
    "        freq2.append(ocorr[1]/i)\n",
    "        freq3.append(ocorr[2]/i)\n",
    "        freq4.append(ocorr[3]/i)\n",
    "        freq5.append(ocorr[4]/i)\n",
    "        freq6.append(ocorr[5]/i)\n",
    "    return(freq1, freq2, freq3, freq4, freq5, freq6)\n",
    "\n",
    "def plotgraf(n):\n",
    "    freq1, freq2, freq3, freq4, freq5, freq6 = freq(n)\n",
    "    plt.figure(figsize=(10, 10), dpi=80)\n",
    "    plt.subplot(211)\n",
    "    x = np.array(range(0,n+1))\n",
    "    if (n > 0):\n",
    "        plt.plot(x, freq1, 'r-', label = \"Face 1\")\n",
    "        plt.plot(x, freq2, 'm-', label = \"Face 2\")\n",
    "        plt.plot(x, freq3, 'g-', label = \"Face 3\")\n",
    "        plt.plot(x, freq4, 'b-', label = \"Face 4\")\n",
    "        plt.plot(x, freq5, 'y-', label = \"Face 5\")\n",
    "        plt.plot(x, freq6, 'c-', label = \"Face 6\")\n",
    "        plt.axis([0, n, -0.03, 1.03])\n",
    "    else:\n",
    "        plt.plot(x, freq1, 'ro')\n",
    "        plt.plot(x, freq2, 'mo')\n",
    "        plt.plot(x, freq3, 'go')\n",
    "        plt.plot(x, freq4, 'bo')\n",
    "        plt.plot(x, freq5, 'yo')\n",
    "        plt.plot(x, freq6, 'co')\n",
    "        plt.axis([-0.03, 1, -0.03, 1])\n",
    "    plt.plot(x, [1/6]*(n+1), 'k--',label = \"1/6\")\n",
    "    plt.legend(bbox_to_anchor = (0.8, -0.2), loc = 1, borderaxespad = 0.)\n",
    "    plt.title(\"Gráfico de lançamento de dados\")\n",
    "    plt.xlabel(\"Número de lançamentos\")\n",
    "    plt.ylabel(\"Frenquência relativa\")\n",
    "    plt.grid(True)\n",
    "\n",
    "    plt.subplot(223)\n",
    "    histo = [freq1[n], freq2[n], freq3[n], freq4[n], freq5[n], freq6[n]]\n",
    "    color = ['r', 'm', 'g', 'b', 'y', 'c']\n",
    "    index = np.arange(1,7)\n",
    "    plt.plot(np.array(range(0,8)), [1/6]*(8), 'k--',label = \"1/6\")\n",
    "    plt.bar(index, histo, color = color)\n",
    "    plt.axis([1, 6.9, 0, 1])\n",
    "    plt.title(\"Histograma de lançamento de dados\")\n",
    "    plt.xlabel(\"Faces\")\n",
    "    plt.ylabel(\"Densidade de frequência\")\n",
    "\n",
    "def main():\n",
    "    n = int(input(\"Número de lançamentos: \\n\"))\n",
    "    plotgraf(n)\n",
    "    plt.show()\n",
    "\n",
    "if __name__ == \"__main__\":\n",
    "    main()"
   ]
  }
 ],
 "metadata": {
  "kernelspec": {
   "display_name": "Python 3",
   "language": "python",
   "name": "python3"
  },
  "language_info": {
   "codemirror_mode": {
    "name": "ipython",
    "version": 3
   },
   "file_extension": ".py",
   "mimetype": "text/x-python",
   "name": "python",
   "nbconvert_exporter": "python",
   "pygments_lexer": "ipython3",
   "version": "3.5.2"
  }
 },
 "nbformat": 4,
 "nbformat_minor": 0
}
